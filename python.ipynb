{
 "cells": [
  {
   "cell_type": "markdown",
   "metadata": {},
   "source": [
    "# Getting to know data format\n",
    "\n",
    "The code above displays the content lines of a pdf's first page in the form of an array.\n",
    "I used pprint so can easily find the index of each line"
   ]
  },
  {
   "cell_type": "code",
   "execution_count": 1,
   "metadata": {},
   "outputs": [
    {
     "name": "stdout",
     "output_type": "stream",
     "text": [
      "['Friday, August 9, 2024',\n",
      " 'Wound Car e Specialty Superbill',\n",
      " 'Detailed Billing for Compr ehensiv e Wound Management  ',\n",
      " 'Services',\n",
      " \"Provider 's Name: Test Provider\",\n",
      " \"Provider 's Email: test@test.com\",\n",
      " 'Date of Ser vice: Friday, August 2, 2024',\n",
      " \"Patient' s Name: Candelario L Calderon\",\n",
      " \"Patient' s Location of Ser vice Home Health - Van Horn, TX\",\n",
      " \"Patient' s DOB 11/08/1943\",\n",
      " \"Patient' s Gender Male\",\n",
      " 'Insur ance Medicare - 2D87PD6RD59',\n",
      " 'Ethnicity Hispanic',\n",
      " 'Language English',\n",
      " \"Service Location: Home Health (12): Services provided in the patient's home.\",\n",
      " 'Home Ser vices: 99348: Home visit, established patient, low complexity',\n",
      " 'Advanced Car e Planning: 99497: Advance care planning, first 30 minutes',\n",
      " 'Wound Car e Management: 29581: Application of multi-layer compression system',\n",
      " 'Supplies and Dr essings: A6220: Alginate dressing, wound cover, sterile, '\n",
      " 'medium',\n",
      " 'Diagnosis Codes (ICD-10): E11.621: Type 2 diabetes mellitus with foot ulcer. '\n",
      " 'Diabetes',\n",
      " 'with associated complications affecting the foot.',\n",
      " 'L97.311: Non-pressure chronic ulcer of right ankle, with',\n",
      " 'granulation tissue. Chronic ulcer on the right ankle with visible',\n",
      " 'granulation tissue.',\n",
      " 'I83.113: Varicose veins of right lower extremity with ulcer.',\n",
      " 'Varicose veins in the right leg accompanied by an ulcer.',\n",
      " 'L97.311: Non-pressure chronic ulcer of right ankle, with',\n",
      " 'granulation tissue. Chronic ulcer on the right ankle with visible',\n",
      " 'granulation tissue.',\n",
      " 'Procedures (CPT/HCPCS Codes):',\n",
      " 'Procedures (CPT/HCPCS Codes) are standardized codes used to describe '\n",
      " 'medical, surgical, diagnostic, ',\n",
      " 'and therapeutic services provided to patients. These codes are used for '\n",
      " 'billing and insurance purposes ',\n",
      " 'to ensure accurate reimbursement and to maintain a uniform record of '\n",
      " 'services provided across ',\n",
      " 'different healthcare settings.',\n",
      " '1']\n"
     ]
    }
   ],
   "source": [
    "import pprint\n",
    "from pypdf import PdfReader\n",
    "import os\n",
    "\n",
    "report_path = f\"{os.path.expanduser('~')}/Reports/pdfs\"\n",
    "base_path = f\"{os.path.expanduser('~')}/Reports\"\n",
    "\n",
    "PDFs = os.listdir(report_path)\n",
    "\n",
    "reader = PdfReader(f\"{report_path}/{PDFs[0]}\")\n",
    "page = reader.pages[0]\n",
    "text = page.extract_text().splitlines()\n",
    "pprint.pprint(text)"
   ]
  },
  {
   "cell_type": "markdown",
   "metadata": {},
   "source": [
    "# Counting files from a folder"
   ]
  },
  {
   "cell_type": "code",
   "execution_count": 3,
   "metadata": {},
   "outputs": [
    {
     "name": "stdout",
     "output_type": "stream",
     "text": [
      "File count: 34\n"
     ]
    }
   ],
   "source": [
    "import os\n",
    "\n",
    "report_path = f\"{os.path.expanduser('~')}/Reports/pdfs\"\n",
    "base_path = f\"{os.path.expanduser('~')}/Reports\"\n",
    "output_path =f\"{os.path.expanduser('~')}/Reports/output\"\n",
    "count = 0\n",
    "# Iterate directory\n",
    "for path in os.listdir(output_path):\n",
    "    # check if current path is a file\n",
    "    if os.path.isfile(os.path.join(output_path, path)):\n",
    "        count += 1\n",
    "print('File count:', count)"
   ]
  }
 ],
 "metadata": {
  "interpreter": {
   "hash": "52e42e991bd3c4f84a10e22d88f7c43870155e27f2db9c97fec1a4d9b9b9c0ff"
  },
  "kernelspec": {
   "display_name": "Python 3.11.9 64-bit ('arl')",
   "language": "python",
   "name": "python3"
  },
  "language_info": {
   "codemirror_mode": {
    "name": "ipython",
    "version": 3
   },
   "file_extension": ".py",
   "mimetype": "text/x-python",
   "name": "python",
   "nbconvert_exporter": "python",
   "pygments_lexer": "ipython3",
   "version": "3.11.9"
  },
  "orig_nbformat": 4
 },
 "nbformat": 4,
 "nbformat_minor": 2
}
